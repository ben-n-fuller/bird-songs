{
 "cells": [
  {
   "cell_type": "markdown",
   "metadata": {},
   "source": [
    "# Official Documentation"
   ]
  },
  {
   "cell_type": "markdown",
   "metadata": {},
   "source": [
    "From the official Xeno Canto documentation:\n",
    "\n",
    "\n",
    "> Use the grp tag to narrow down your search to a specific group. This tag is particularly useful in combination with one of the other tags. Valid group values are birds, grasshoppers and bats. You can also use their respective ids (1 to 3), so grp:2 will restrict your search to grasshoppers. Soundscapes are a special case, as these recordings may include multiple groups. Use grp:soundscape or grp:0 to search these.\n",
    "\n",
    "> Genus is part of a species' scientific name, so it is searched by default when performing a basic search (as mentioned above). But you can use the gen tag to limit your search query only to the genus field. So gen:zonotrichia will find all recordings of sparrows in the genus Zonotrichia. Similarly, ssp can be used to search for subspecies. These fields use a 'starts with' rather than 'contains' query and accept a 'matches' operator."
   ]
  },
  {
   "cell_type": "markdown",
   "metadata": {},
   "source": [
    "## Query API by Bird Genus"
   ]
  },
  {
   "cell_type": "code",
   "execution_count": 3,
   "metadata": {},
   "outputs": [],
   "source": [
    "import os\n",
    "import requests\n",
    "import pandas as pd"
   ]
  },
  {
   "cell_type": "code",
   "execution_count": 4,
   "metadata": {},
   "outputs": [],
   "source": [
    "# Fetch sounds from xeno-canto\n",
    "def fetch_sounds(bird_name):\n",
    "    sounds = requests.get(f'https://xeno-canto.org/api/2/recordings?query=grp:birds+gen:{bird_name}')\n",
    "    sounds = sounds.json()\n",
    "    num_pages = sounds['numPages']\n",
    "    i = 1\n",
    "    all_results = []\n",
    "    while i <= num_pages:\n",
    "        sounds = requests.get(f'https://xeno-canto.org/api/2/recordings?query=grp:birds+gen:{bird_name}&page={i}')\n",
    "        all_results.append(sounds.json())\n",
    "        i += 1\n",
    "    \n",
    "    all_recordings = []\n",
    "    for sound in all_results:\n",
    "        for recording in sound['recordings']:\n",
    "            all_recordings.append(recording)\n",
    "\n",
    "    return all_recordings\n",
    "\n",
    "\n",
    "# Fetch sounds\n",
    "hawk_sounds = fetch_sounds('buteo')\n",
    "heron_sounds = fetch_sounds('ardea')\n",
    "goose_sounds = fetch_sounds('branta')\n",
    "\n",
    "# Create data frames\n",
    "goose_sounds_df = pd.DataFrame(goose_sounds)\n",
    "heron_sounds_df = pd.DataFrame(heron_sounds)\n",
    "hawk_sounds_df = pd.DataFrame(hawk_sounds)\n",
    "\n",
    "# Apply labels\n",
    "hawk_sounds_df['label'] = 'hawk'\n",
    "goose_sounds_df['label'] = 'goose'\n",
    "heron_sounds_df['label'] = 'heron'\n",
    "\n",
    "recordings_df = pd.concat([goose_sounds_df, heron_sounds_df, hawk_sounds_df])"
   ]
  },
  {
   "cell_type": "code",
   "execution_count": 26,
   "metadata": {},
   "outputs": [],
   "source": [
    "# Save recordings to file\n",
    "recordings_df.to_csv('data/recordings.csv', index=False)"
   ]
  },
  {
   "cell_type": "code",
   "execution_count": 27,
   "metadata": {},
   "outputs": [
    {
     "data": {
      "text/html": [
       "<div>\n",
       "<style scoped>\n",
       "    .dataframe tbody tr th:only-of-type {\n",
       "        vertical-align: middle;\n",
       "    }\n",
       "\n",
       "    .dataframe tbody tr th {\n",
       "        vertical-align: top;\n",
       "    }\n",
       "\n",
       "    .dataframe thead th {\n",
       "        text-align: right;\n",
       "    }\n",
       "</style>\n",
       "<table border=\"1\" class=\"dataframe\">\n",
       "  <thead>\n",
       "    <tr style=\"text-align: right;\">\n",
       "      <th></th>\n",
       "      <th>id</th>\n",
       "      <th>gen</th>\n",
       "      <th>en</th>\n",
       "      <th>cnt</th>\n",
       "      <th>label</th>\n",
       "    </tr>\n",
       "  </thead>\n",
       "  <tbody>\n",
       "    <tr>\n",
       "      <th>0</th>\n",
       "      <td>936105</td>\n",
       "      <td>Branta</td>\n",
       "      <td>Brant Goose</td>\n",
       "      <td>United Kingdom</td>\n",
       "      <td>goose</td>\n",
       "    </tr>\n",
       "    <tr>\n",
       "      <th>1</th>\n",
       "      <td>934302</td>\n",
       "      <td>Branta</td>\n",
       "      <td>Brant Goose</td>\n",
       "      <td>Sweden</td>\n",
       "      <td>goose</td>\n",
       "    </tr>\n",
       "    <tr>\n",
       "      <th>2</th>\n",
       "      <td>906056</td>\n",
       "      <td>Branta</td>\n",
       "      <td>Brant Goose</td>\n",
       "      <td>Finland</td>\n",
       "      <td>goose</td>\n",
       "    </tr>\n",
       "    <tr>\n",
       "      <th>3</th>\n",
       "      <td>898133</td>\n",
       "      <td>Branta</td>\n",
       "      <td>Brant Goose</td>\n",
       "      <td>Ireland</td>\n",
       "      <td>goose</td>\n",
       "    </tr>\n",
       "    <tr>\n",
       "      <th>4</th>\n",
       "      <td>882013</td>\n",
       "      <td>Branta</td>\n",
       "      <td>Brant Goose</td>\n",
       "      <td>France</td>\n",
       "      <td>goose</td>\n",
       "    </tr>\n",
       "    <tr>\n",
       "      <th>...</th>\n",
       "      <td>...</td>\n",
       "      <td>...</td>\n",
       "      <td>...</td>\n",
       "      <td>...</td>\n",
       "      <td>...</td>\n",
       "    </tr>\n",
       "    <tr>\n",
       "      <th>2578</th>\n",
       "      <td>296984</td>\n",
       "      <td>Buteo</td>\n",
       "      <td>Jackal Buzzard</td>\n",
       "      <td>South Africa</td>\n",
       "      <td>hawk</td>\n",
       "    </tr>\n",
       "    <tr>\n",
       "      <th>2579</th>\n",
       "      <td>279894</td>\n",
       "      <td>Buteo</td>\n",
       "      <td>Jackal Buzzard</td>\n",
       "      <td>South Africa</td>\n",
       "      <td>hawk</td>\n",
       "    </tr>\n",
       "    <tr>\n",
       "      <th>2580</th>\n",
       "      <td>62422</td>\n",
       "      <td>Buteo</td>\n",
       "      <td>Jackal Buzzard</td>\n",
       "      <td>South Africa</td>\n",
       "      <td>hawk</td>\n",
       "    </tr>\n",
       "    <tr>\n",
       "      <th>2581</th>\n",
       "      <td>397385</td>\n",
       "      <td>Buteo</td>\n",
       "      <td>Jackal Buzzard</td>\n",
       "      <td>South Africa</td>\n",
       "      <td>hawk</td>\n",
       "    </tr>\n",
       "    <tr>\n",
       "      <th>2582</th>\n",
       "      <td>279893</td>\n",
       "      <td>Buteo</td>\n",
       "      <td>Jackal Buzzard</td>\n",
       "      <td>South Africa</td>\n",
       "      <td>hawk</td>\n",
       "    </tr>\n",
       "  </tbody>\n",
       "</table>\n",
       "<p>7006 rows × 5 columns</p>\n",
       "</div>"
      ],
      "text/plain": [
       "          id     gen              en             cnt  label\n",
       "0     936105  Branta     Brant Goose  United Kingdom  goose\n",
       "1     934302  Branta     Brant Goose          Sweden  goose\n",
       "2     906056  Branta     Brant Goose         Finland  goose\n",
       "3     898133  Branta     Brant Goose         Ireland  goose\n",
       "4     882013  Branta     Brant Goose          France  goose\n",
       "...      ...     ...             ...             ...    ...\n",
       "2578  296984   Buteo  Jackal Buzzard    South Africa   hawk\n",
       "2579  279894   Buteo  Jackal Buzzard    South Africa   hawk\n",
       "2580   62422   Buteo  Jackal Buzzard    South Africa   hawk\n",
       "2581  397385   Buteo  Jackal Buzzard    South Africa   hawk\n",
       "2582  279893   Buteo  Jackal Buzzard    South Africa   hawk\n",
       "\n",
       "[7006 rows x 5 columns]"
      ]
     },
     "execution_count": 27,
     "metadata": {},
     "output_type": "execute_result"
    }
   ],
   "source": [
    "recordings_df[['id', 'gen', 'en', 'cnt', 'label']]"
   ]
  },
  {
   "cell_type": "code",
   "execution_count": null,
   "metadata": {},
   "outputs": [],
   "source": [
    "recordings_df[['label']].value_counts()"
   ]
  },
  {
   "cell_type": "markdown",
   "metadata": {},
   "source": [
    "## Fetch MP3 Data and Save Locally"
   ]
  },
  {
   "cell_type": "code",
   "execution_count": 14,
   "metadata": {},
   "outputs": [],
   "source": [
    "labels = ['heron']\n",
    "sounds = [heron_sounds]\n",
    "\n",
    "for i in range(len(labels)):\n",
    "    recordings = sounds[i]\n",
    "    for j in range(len(recordings)):\n",
    "        file_str = recordings[j]['file']\n",
    "        if file_str == '':\n",
    "            continue\n",
    "        bird_sound = requests.get(file_str)\n",
    "        id = recordings[j]['id']\n",
    "        p = f'data/{labels[i]}_{id}.mp3'\n",
    "        with open(p, 'wb') as f:\n",
    "            f.write(bird_sound.content)"
   ]
  },
  {
   "cell_type": "code",
   "execution_count": 19,
   "metadata": {},
   "outputs": [
    {
     "name": "stdout",
     "output_type": "stream",
     "text": [
      "Num Goose Sounds: 1635\n",
      "Num Hawk Sounds: 2583\n",
      "Num Heron Sounds: 1982\n"
     ]
    }
   ],
   "source": [
    "# List files in data directory\n",
    "data_files = os.listdir('data')\n",
    "num_geese = len([f for f in data_files if f.startswith('goose')])\n",
    "num_herons = len([f for f in data_files if f.startswith('heron')])\n",
    "num_hawks = len([f for f in data_files if f.startswith('hawk')])\n",
    "print(f'Num saved Goose Sounds: {num_geese}')\n",
    "print(f'Num saved Hawk Sounds: {num_hawks}')\n",
    "print(f'Num saved Heron Sounds: {num_herons}')"
   ]
  }
 ],
 "metadata": {
  "kernelspec": {
   "display_name": "jl",
   "language": "python",
   "name": "python3"
  },
  "language_info": {
   "codemirror_mode": {
    "name": "ipython",
    "version": 3
   },
   "file_extension": ".py",
   "mimetype": "text/x-python",
   "name": "python",
   "nbconvert_exporter": "python",
   "pygments_lexer": "ipython3",
   "version": "3.11.8"
  }
 },
 "nbformat": 4,
 "nbformat_minor": 2
}
