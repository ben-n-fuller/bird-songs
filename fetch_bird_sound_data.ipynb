{
 "cells": [
  {
   "cell_type": "markdown",
   "metadata": {},
   "source": [
    "# Official Documentation"
   ]
  },
  {
   "cell_type": "markdown",
   "metadata": {},
   "source": [
    "From the official Xeno Canto documentation:\n",
    "\n",
    "\n",
    "> Use the grp tag to narrow down your search to a specific group. This tag is particularly useful in combination with one of the other tags. Valid group values are birds, grasshoppers and bats. You can also use their respective ids (1 to 3), so grp:2 will restrict your search to grasshoppers. Soundscapes are a special case, as these recordings may include multiple groups. Use grp:soundscape or grp:0 to search these.\n",
    "\n",
    "> Genus is part of a species' scientific name, so it is searched by default when performing a basic search (as mentioned above). But you can use the gen tag to limit your search query only to the genus field. So gen:zonotrichia will find all recordings of sparrows in the genus Zonotrichia. Similarly, ssp can be used to search for subspecies. These fields use a 'starts with' rather than 'contains' query and accept a 'matches' operator."
   ]
  },
  {
   "cell_type": "markdown",
   "metadata": {},
   "source": [
    "## Query API by Bird Genus"
   ]
  },
  {
   "cell_type": "code",
   "execution_count": 1,
   "metadata": {},
   "outputs": [],
   "source": [
    "import numpy as np\n",
    "import requests\n",
    "import json\n",
    "import pandas as pd"
   ]
  },
  {
   "cell_type": "code",
   "execution_count": 2,
   "metadata": {},
   "outputs": [
    {
     "name": "stdout",
     "output_type": "stream",
     "text": [
      "Num hawk sounds:  2583\n",
      "Num heron sounds:  2788\n",
      "Num goose sounds:  1635\n"
     ]
    }
   ],
   "source": [
    "# Fetch sounds from xeno-canto\n",
    "hawk_sounds = requests.get('https://xeno-canto.org/api/2/recordings?query=grp:birds+gen:buteo')\n",
    "hawk_sounds = hawk_sounds.json()\n",
    "\n",
    "heron_sounds = requests.get('https://xeno-canto.org/api/2/recordings?query=grp:birds+gen:ardea')\n",
    "heron_sounds = heron_sounds.json()\n",
    "\n",
    "goose_sounds = requests.get('https://xeno-canto.org/api/2/recordings?query=grp:birds+gen:branta')\n",
    "goose_sounds = goose_sounds.json()\n",
    "\n",
    "# Create data frames\n",
    "goose_sounds_df = pd.DataFrame(goose_sounds['recordings'])\n",
    "heron_sounds_df = pd.DataFrame(heron_sounds['recordings'])\n",
    "hawk_sounds_df = pd.DataFrame(hawk_sounds['recordings'])\n",
    "\n",
    "# Apply labels\n",
    "hawk_sounds_df['label'] = 'hawk'\n",
    "goose_sounds_df['label'] = 'goose'\n",
    "heron_sounds_df['label'] = 'heron'\n",
    "\n",
    "recordings_df = pd.concat([goose_sounds_df, heron_sounds_df, hawk_sounds_df])\n",
    "\n",
    "print(\"Num hawk sounds: \", hawk_sounds['numRecordings'])\n",
    "print(\"Num heron sounds: \", heron_sounds['numRecordings'])\n",
    "print(\"Num goose sounds: \", goose_sounds['numRecordings'])"
   ]
  },
  {
   "cell_type": "code",
   "execution_count": 3,
   "metadata": {},
   "outputs": [],
   "source": [
    "# Save recordings to file\n",
    "recordings_df.to_csv('data/recordings.csv', index=False)"
   ]
  },
  {
   "cell_type": "markdown",
   "metadata": {},
   "source": [
    "## Fetch MP3 Data and Save Locally"
   ]
  },
  {
   "cell_type": "code",
   "execution_count": 2,
   "metadata": {},
   "outputs": [],
   "source": [
    "labels = ['hawk', 'heron', 'goose']\n",
    "sounds = [hawk_sounds, heron_sounds, goose_sounds]\n",
    "\n",
    "batch_size = 20\n",
    "batch = []\n",
    "\n",
    "for i in range(len(labels)):\n",
    "    recordings = sounds[i]['recordings']\n",
    "    for j in range(len(recordings)):\n",
    "        bird_sound = requests.get(recordings[j]['file'])\n",
    "        batch.append((f'data/{labels[i]}_{j+1}.mp3', bird_sound.content))\n",
    "\n",
    "        # Save batches of downloaded files\n",
    "        if len(batch) >= batch_size:\n",
    "            for file_name, content in batch:\n",
    "                with open(file_name, 'wb') as f:\n",
    "                    f.write(content)\n",
    "            batch.clear() \n",
    "\n",
    "# Save any remaining files in the last batch\n",
    "if batch:\n",
    "    for file_name, content in batch:\n",
    "        with open(file_name, 'wb') as f:\n",
    "            f.write(content)"
   ]
  }
 ],
 "metadata": {
  "kernelspec": {
   "display_name": "jl",
   "language": "python",
   "name": "python3"
  },
  "language_info": {
   "codemirror_mode": {
    "name": "ipython",
    "version": 3
   },
   "file_extension": ".py",
   "mimetype": "text/x-python",
   "name": "python",
   "nbconvert_exporter": "python",
   "pygments_lexer": "ipython3",
   "version": "3.11.8"
  }
 },
 "nbformat": 4,
 "nbformat_minor": 2
}
